{
  "nbformat": 4,
  "nbformat_minor": 0,
  "metadata": {
    "colab": {
      "provenance": [],
      "authorship_tag": "ABX9TyPo0GI4HvjeuOU6WEJQcL3Y",
      "include_colab_link": true
    },
    "kernelspec": {
      "name": "python3",
      "display_name": "Python 3"
    },
    "language_info": {
      "name": "python"
    }
  },
  "cells": [
    {
      "cell_type": "markdown",
      "metadata": {
        "id": "view-in-github",
        "colab_type": "text"
      },
      "source": [
        "<a href=\"https://colab.research.google.com/github/RamanRajSingh/Celsius_To_Fareheit/blob/main/Celsius_Farenheit.ipynb\" target=\"_parent\"><img src=\"https://colab.research.google.com/assets/colab-badge.svg\" alt=\"Open In Colab\"/></a>"
      ]
    },
    {
      "cell_type": "code",
      "execution_count": null,
      "metadata": {
        "id": "rEkgXeOkLsYy"
      },
      "outputs": [],
      "source": [
        "import tensorflow as tf"
      ]
    },
    {
      "cell_type": "code",
      "source": [
        "import numpy as np\n",
        "import logging\n",
        "logger = tf.get_logger()\n",
        "logger.setLevel(logging.ERROR)"
      ],
      "metadata": {
        "id": "T_H_L8YCLzNO"
      },
      "execution_count": null,
      "outputs": []
    },
    {
      "cell_type": "code",
      "source": [
        "celsius_q=np.array([-40,-10,0,8,15,22,38],dtype=float)\n",
        "farenheit_a=np.array([-40,14,32,46,59,72,100],dtype=float)\n",
        "for i,c in enumerate(celsius_q):\n",
        "  print('{} degrees in celsius={} degrees in farenheit'.format(c,farenheit_a[i]))"
      ],
      "metadata": {
        "colab": {
          "base_uri": "https://localhost:8080/"
        },
        "id": "wmuTgX3PL6Wo",
        "outputId": "68b0ec8d-2956-45e1-c4fe-3a57a5faf593"
      },
      "execution_count": null,
      "outputs": [
        {
          "output_type": "stream",
          "name": "stdout",
          "text": [
            "-40.0 degrees in celsius=-40.0 degrees in farenheit\n",
            "-10.0 degrees in celsius=14.0 degrees in farenheit\n",
            "0.0 degrees in celsius=32.0 degrees in farenheit\n",
            "8.0 degrees in celsius=46.0 degrees in farenheit\n",
            "15.0 degrees in celsius=59.0 degrees in farenheit\n",
            "22.0 degrees in celsius=72.0 degrees in farenheit\n",
            "38.0 degrees in celsius=100.0 degrees in farenheit\n"
          ]
        }
      ]
    },
    {
      "cell_type": "code",
      "source": [
        "l0=tf.keras.layers.Dense(units=1, input_shape=[1])"
      ],
      "metadata": {
        "id": "Wcqhe-fwQHAJ",
        "colab": {
          "base_uri": "https://localhost:8080/"
        },
        "outputId": "d13240c5-2ca9-4845-a0f1-9004263bd035"
      },
      "execution_count": null,
      "outputs": [
        {
          "output_type": "stream",
          "name": "stderr",
          "text": [
            "/usr/local/lib/python3.10/dist-packages/keras/src/layers/core/dense.py:87: UserWarning: Do not pass an `input_shape`/`input_dim` argument to a layer. When using Sequential models, prefer using an `Input(shape)` object as the first layer in the model instead.\n",
            "  super().__init__(activity_regularizer=activity_regularizer, **kwargs)\n"
          ]
        }
      ]
    },
    {
      "cell_type": "code",
      "source": [
        "model=tf.keras.Sequential([l0])"
      ],
      "metadata": {
        "id": "CbRrlSrUS6Sc"
      },
      "execution_count": null,
      "outputs": []
    },
    {
      "cell_type": "code",
      "source": [
        "model.compile(loss='mean_squared_error',optimizer=tf.keras.optimizers.Adam(0.1))"
      ],
      "metadata": {
        "id": "DmnHMkDYTfbp"
      },
      "execution_count": null,
      "outputs": []
    },
    {
      "cell_type": "markdown",
      "source": [
        "# **Train the model**"
      ],
      "metadata": {
        "id": "30aNmRR2jrHk"
      }
    },
    {
      "cell_type": "code",
      "source": [
        "history=model.fit(celsius_q,farenheit_a,epochs=500,verbose=False)\n",
        "print('Finished training the model!')"
      ],
      "metadata": {
        "id": "ZpcxS8WHpH8I",
        "colab": {
          "base_uri": "https://localhost:8080/"
        },
        "outputId": "b9e30ca7-ba21-496e-dbb7-b788925d17a2"
      },
      "execution_count": null,
      "outputs": [
        {
          "output_type": "stream",
          "name": "stdout",
          "text": [
            "Finished training the model!\n"
          ]
        }
      ]
    },
    {
      "cell_type": "markdown",
      "source": [
        "# **Displaying the training statistics**"
      ],
      "metadata": {
        "id": "sYo3OS0Wm9uF"
      }
    },
    {
      "cell_type": "code",
      "source": [
        "import matplotlib.pyplot as plt\n",
        "plt.xlabel('Epoch number')\n",
        "plt.ylabel('Loss magnitude')\n",
        "plt.plot(history.history['loss'])"
      ],
      "metadata": {
        "colab": {
          "base_uri": "https://localhost:8080/",
          "height": 466
        },
        "id": "ZYGrbXIZkiZS",
        "outputId": "2d4ce91f-3328-47f8-88d6-8094927f940b"
      },
      "execution_count": null,
      "outputs": [
        {
          "output_type": "execute_result",
          "data": {
            "text/plain": [
              "[<matplotlib.lines.Line2D at 0x7a95544900a0>]"
            ]
          },
          "metadata": {},
          "execution_count": 8
        },
        {
          "output_type": "display_data",
          "data": {
            "text/plain": [
              "<Figure size 640x480 with 1 Axes>"
            ],
            "image/png": "[encoded data removed]"
          },
          "metadata": {}
        }
      ]
    },
    {
      "cell_type": "code",
      "source": [
        "print(model.predict(np.array([[120.0]])))"
      ],
      "metadata": {
        "colab": {
          "base_uri": "https://localhost:8080/"
        },
        "id": "OAVxkBSJnHb1",
        "outputId": "29d30da8-aaeb-4ea2-8081-22235e831dbb"
      },
      "execution_count": null,
      "outputs": [
        {
          "output_type": "stream",
          "name": "stdout",
          "text": [
            "\u001b[1m1/1\u001b[0m \u001b[32m━━━━━━━━━━━━━━━━━━━━\u001b[0m\u001b[37m\u001b[0m \u001b[1m0s\u001b[0m 35ms/step\n",
            "[[247.74379]]\n"
          ]
        }
      ]
    },
    {
      "cell_type": "code",
      "source": [
        "print('These are the layer variables: {}'.format(l0.get_weights()))"
      ],
      "metadata": {
        "colab": {
          "base_uri": "https://localhost:8080/"
        },
        "id": "omUILGDfqsLi",
        "outputId": "614fbfb7-a2ad-4de6-e066-5eec4c45d602"
      },
      "execution_count": null,
      "outputs": [
        {
          "output_type": "stream",
          "name": "stdout",
          "text": [
            "These are the layer variables: [array([[1.8202696]], dtype=float32), array([29.311447], dtype=float32)]\n"
          ]
        }
      ]
    },
    {
      "cell_type": "code",
      "source": [
        "l0 = tf.keras.layers.Dense(units=4, input_shape=[1])\n",
        "l1 = tf.keras.layers.Dense(units=4)\n",
        "l2 = tf.keras.layers.Dense(units=1)\n",
        "model = tf.keras.Sequential([l0, l1, l2])\n",
        "model.compile(loss='mean_squared_error', optimizer=tf.keras.optimizers.Adam(0.1))\n",
        "model.fit(celsius_q, farenheit_a, epochs=500, verbose=False)\n",
        "print(\"Finished training the model\")\n",
        "print(model.predict(np.array([[100.0]])))\n",
        "print(\"Model predicts that 100 degrees Celsius is: {} degrees Fahrenheit\".format(model.predict(np.array([[100.0]]))))\n",
        "print(\"These are the l0 variables: {}\".format(l0.get_weights()))\n",
        "print(\"These are the l1 variables: {}\".format(l1.get_weights()))\n",
        "print(\"These are the l2 variables: {}\".format(l2.get_weights()))"
      ],
      "metadata": {
        "id": "B0Hs5PP_vZ_U",
        "colab": {
          "base_uri": "https://localhost:8080/"
        },
        "outputId": "62107f3d-5860-4a1a-cc37-f6e140d7a4b9"
      },
      "execution_count": null,
      "outputs": [
        {
          "output_type": "stream",
          "name": "stderr",
          "text": [
            "/usr/local/lib/python3.10/dist-packages/keras/src/layers/core/dense.py:87: UserWarning: Do not pass an `input_shape`/`input_dim` argument to a layer. When using Sequential models, prefer using an `Input(shape)` object as the first layer in the model instead.\n",
            "  super().__init__(activity_regularizer=activity_regularizer, **kwargs)\n"
          ]
        },
        {
          "output_type": "stream",
          "name": "stdout",
          "text": [
            "Finished training the model\n",
            "\u001b[1m1/1\u001b[0m \u001b[32m━━━━━━━━━━━━━━━━━━━━\u001b[0m\u001b[37m\u001b[0m \u001b[1m0s\u001b[0m 64ms/step\n",
            "[[211.74742]]\n",
            "\u001b[1m1/1\u001b[0m \u001b[32m━━━━━━━━━━━━━━━━━━━━\u001b[0m\u001b[37m\u001b[0m \u001b[1m0s\u001b[0m 19ms/step\n",
            "Model predicts that 100 degrees Celsius is: [[211.74742]] degrees Fahrenheit\n",
            "These are the l0 variables: [array([[0.61343366, 0.19522923, 0.140305  , 0.23565653]], dtype=float32), array([ 3.1733534,  2.9799676, -1.8480074,  3.0158246], dtype=float32)]\n",
            "These are the l1 variables: [array([[ 0.397793  , -0.4483396 ,  0.7377292 , -0.7454567 ],\n",
            "       [-0.5607646 , -0.64682853,  1.0714796 ,  0.21441482],\n",
            "       [ 0.3899197 ,  0.24718353,  0.5374366 ,  0.42686182],\n",
            "       [-0.4317094 , -1.0799179 , -0.03962178, -0.66837525]],\n",
            "      dtype=float32), array([-1.8912028, -3.090098 ,  3.102534 , -3.071579 ], dtype=float32)]\n",
            "These are the l2 variables: [array([[-0.62754524],\n",
            "       [-1.2391764 ],\n",
            "       [ 0.74779695],\n",
            "       [-1.0504956 ]], dtype=float32), array([3.0443485], dtype=float32)]\n"
          ]
        }
      ]
    },
    {
      "cell_type": "code",
      "source": [],
      "metadata": {
        "id": "NcdHUqjI7SPw"
      },
      "execution_count": null,
      "outputs": []
    }
  ]
}